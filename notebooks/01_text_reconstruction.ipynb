{
  "cells": [
    {
      "cell_type": "raw",
      "metadata": {
        "vscode": {
          "languageId": "raw"
        }
      },
      "source": [
        "# Παραδοτέο 1: Ανακατασκευή Κειμένου\n",
        "\n",
        "Αυτό το notebook παρουσιάζει την υλοποίηση και τα αποτελέσματα της ανακατασκευής κειμένου για την εργασία NLP 2025.\n",
        "\n",
        "## Περιεχόμενα:\n",
        "1. **Custom Pipeline** - Ανακατασκευή 2 επιλεγμένων προτάσεων\n",
        "2. **Library Pipelines** - 3 διαφορετικές προσεγγίσεις με βιβλιοθήκες\n",
        "3. **Σύγκριση αποτελεσμάτων**\n",
        "4. **Ανάλυση και συμπεράσματα**\n"
      ]
    },
    {
      "cell_type": "code",
      "execution_count": null,
      "metadata": {},
      "outputs": [],
      "source": [
        "# Εισαγωγή βιβλιοθηκών\n",
        "import sys\n",
        "import os\n",
        "from pathlib import Path\n",
        "\n",
        "# Προσθήκη src στο Python path\n",
        "project_root = Path().absolute().parent\n",
        "src_path = project_root / \"src\"\n",
        "sys.path.insert(0, str(src_path))\n",
        "\n",
        "# Imports από το project\n",
        "from src.utils.data_loader import DataLoader\n",
        "from src.text_reconstruction.custom_pipeline import CustomTextReconstructor\n",
        "from src.text_reconstruction.library_pipelines import LibraryPipelines\n",
        "from src.utils.evaluation import EvaluationMetrics\n",
        "\n",
        "import pandas as pd\n",
        "import matplotlib.pyplot as plt\n",
        "import seaborn as sns\n",
        "import warnings\n",
        "warnings.filterwarnings('ignore')\n",
        "\n",
        "# Ρύθμιση εμφάνισης\n",
        "plt.style.use('seaborn-v0_8')\n",
        "pd.set_option('display.max_columns', None)\n",
        "pd.set_option('display.width', None)\n"
      ]
    }
  ],
  "metadata": {
    "language_info": {
      "name": "python"
    }
  },
  "nbformat": 4,
  "nbformat_minor": 2
}
